{
 "cells": [
  {
   "cell_type": "markdown",
   "metadata": {},
   "source": [
    "# 数学函数、字符串和对象\n",
    "## 本章介绍Python函数来执行常见的数学运算\n",
    "- 函数是完成一个特殊任务的一组语句，可以理解为一个函数相当于一个小功能，但是在开发中，需要注意一个函数的长度最好不要超过一屏\n",
    "- Python中的内置函数是不需要Import导入的\n",
    "<img src=\"../Photo/15.png\"></img>"
   ]
  },
  {
   "cell_type": "code",
   "execution_count": null,
   "metadata": {},
   "outputs": [],
   "source": [
    "#泛绿表示是python本身拥有的，不可以用作变量，但是也可以，只是需要重新定义\n",
    "max 可迭代，判断是否可以迭代，查询她是否有_iter_这种高阶属性"
   ]
  },
  {
   "cell_type": "code",
   "execution_count": 1,
   "metadata": {},
   "outputs": [
    {
     "data": {
      "text/plain": [
       "16777216"
      ]
     },
     "execution_count": 1,
     "metadata": {},
     "output_type": "execute_result"
    }
   ],
   "source": [
    "#pow 取幂\n",
    "8**8"
   ]
  },
  {
   "cell_type": "code",
   "execution_count": 2,
   "metadata": {},
   "outputs": [
    {
     "data": {
      "text/plain": [
       "16777216"
      ]
     },
     "execution_count": 2,
     "metadata": {},
     "output_type": "execute_result"
    }
   ],
   "source": [
    "pow(8,8)"
   ]
  },
  {
   "cell_type": "markdown",
   "metadata": {},
   "source": [
    "## 尝试练习Python内置函数"
   ]
  },
  {
   "cell_type": "markdown",
   "metadata": {},
   "source": [
    "## Python中的math模块提供了许多数学函数\n",
    "<img src=\"../Photo/16.png\"></img>\n",
    "<img src=\"../Photo/17.png\"></img>\n"
   ]
  },
  {
   "cell_type": "code",
   "execution_count": 3,
   "metadata": {},
   "outputs": [
    {
     "data": {
      "text/plain": [
       "1.7900914121273581"
      ]
     },
     "execution_count": 3,
     "metadata": {},
     "output_type": "execute_result"
    }
   ],
   "source": [
    "import math #导入math这个库\n",
    "math.log(5.99)"
   ]
  },
  {
   "cell_type": "code",
   "execution_count": 4,
   "metadata": {},
   "outputs": [
    {
     "data": {
      "text/plain": [
       "8"
      ]
     },
     "execution_count": 4,
     "metadata": {},
     "output_type": "execute_result"
    }
   ],
   "source": [
    "math.ceil(7.1)"
   ]
  },
  {
   "cell_type": "code",
   "execution_count": 5,
   "metadata": {},
   "outputs": [
    {
     "data": {
      "text/plain": [
       "2.718281828459045"
      ]
     },
     "execution_count": 5,
     "metadata": {},
     "output_type": "execute_result"
    }
   ],
   "source": [
    "math.exp(1)"
   ]
  },
  {
   "cell_type": "code",
   "execution_count": 7,
   "metadata": {},
   "outputs": [
    {
     "data": {
      "text/plain": [
       "1.0"
      ]
     },
     "execution_count": 7,
     "metadata": {},
     "output_type": "execute_result"
    }
   ],
   "source": [
    "math.log(math.exp(1))"
   ]
  },
  {
   "cell_type": "code",
   "execution_count": 8,
   "metadata": {},
   "outputs": [
    {
     "data": {
      "text/plain": [
       "1.0"
      ]
     },
     "execution_count": 8,
     "metadata": {},
     "output_type": "execute_result"
    }
   ],
   "source": [
    "math.log(10,10)"
   ]
  },
  {
   "cell_type": "code",
   "execution_count": 9,
   "metadata": {},
   "outputs": [
    {
     "data": {
      "text/plain": [
       "10.0"
      ]
     },
     "execution_count": 9,
     "metadata": {},
     "output_type": "execute_result"
    }
   ],
   "source": [
    "math.sqrt(100)"
   ]
  },
  {
   "cell_type": "code",
   "execution_count": 10,
   "metadata": {},
   "outputs": [
    {
     "data": {
      "text/plain": [
       "1.0"
      ]
     },
     "execution_count": 10,
     "metadata": {},
     "output_type": "execute_result"
    }
   ],
   "source": [
    "math.sin(math.pi/2)"
   ]
  },
  {
   "cell_type": "code",
   "execution_count": 11,
   "metadata": {},
   "outputs": [
    {
     "data": {
      "text/plain": [
       "1.5707963267948966"
      ]
     },
     "execution_count": 11,
     "metadata": {},
     "output_type": "execute_result"
    }
   ],
   "source": [
    "math.radians(90)"
   ]
  },
  {
   "cell_type": "code",
   "execution_count": 12,
   "metadata": {},
   "outputs": [
    {
     "data": {
      "text/plain": [
       "1.0"
      ]
     },
     "execution_count": 12,
     "metadata": {},
     "output_type": "execute_result"
    }
   ],
   "source": [
    "hudu = math.radians(90)\n",
    "math.sin(hudu)"
   ]
  },
  {
   "cell_type": "markdown",
   "metadata": {},
   "source": [
    "## 两个数学常量PI和e，可以通过使用math.pi 和math.e调用"
   ]
  },
  {
   "cell_type": "markdown",
   "metadata": {},
   "source": [
    "## EP:\n",
    "- 通过math库，写一个程序，使得用户输入三个顶点(x,y)返回三个角度\n",
    "- 注意：Python计算角度为弧度制，需要将其转换为角度\n",
    "<img src=\"../Photo/18.png\">"
   ]
  },
  {
   "cell_type": "code",
   "execution_count": 2,
   "metadata": {},
   "outputs": [
    {
     "name": "stdout",
     "output_type": "stream",
     "text": [
      "请输入x1 ,请输入y1 0,0\n",
      "请输入x2 ,请输入y2 0,1\n",
      "请输入x3 ,请输入y3 1,0\n",
      "90.0\n",
      "45.0\n",
      "45.0\n"
     ]
    }
   ],
   "source": [
    "import math\n",
    "x1,y1 = eval(input(\"请输入x1 ,请输入y1 \"))\n",
    "x2,y2 = eval(input(\"请输入x2 ,请输入y2 \"))\n",
    "x3,y3 = eval(input(\"请输入x3 ,请输入y3 \"))\n",
    "a = math.sqrt(math.pow(x2-x3,2)+math.pow(y2-y3,2))\n",
    "b = math.sqrt(math.pow(x1-x3,2)+math.pow(y1-y3,2))\n",
    "c = math.sqrt(math.pow(x2-x1,2)+math.pow(y2-y1,2))\n",
    "HuduA = math.acos((a*a-b*b-c*c)/(-2*b*c))\n",
    "HuduB = math.acos((b*b-a*a-c*c)/(-2*a*c))\n",
    "HuduC = math.acos((c*c-b*b-a*a)/(-2*a*b))\n",
    "jiaoA = math.degrees(HuduA)\n",
    "jiaoB = math.degrees(HuduB)\n",
    "jiaoC = math.degrees(HuduC)\n",
    "print(round(jiaoA,1))\n",
    "print(round(jiaoB,1))\n",
    "print(round(jiaoC,1))"
   ]
  },
  {
   "cell_type": "code",
   "execution_count": 10,
   "metadata": {},
   "outputs": [
    {
     "name": "stdout",
     "output_type": "stream",
     "text": [
      "很遗憾您没有中奖\n"
     ]
    }
   ],
   "source": [
    "#抽奖，随机出现三个随机数，这三个随机数构成三角形，则中奖\n",
    "import random\n",
    "num1 = random.randint(0,100)\n",
    "num2 = random.randint(0,100)\n",
    "num3 = random.randint(0,100)\n",
    "if (num1+num2)>num3 and (num2+num3)>num1 and (num3+num1) >num2:\n",
    "    print(\"恭喜中奖\") \n",
    "else :\n",
    "    print(\"很遗憾您没有中奖\")"
   ]
  },
  {
   "cell_type": "code",
   "execution_count": 12,
   "metadata": {},
   "outputs": [
    {
     "ename": "SyntaxError",
     "evalue": "invalid syntax (<ipython-input-12-8affd23c2e73>, line 3)",
     "output_type": "error",
     "traceback": [
      "\u001b[1;36m  File \u001b[1;32m\"<ipython-input-12-8affd23c2e73>\"\u001b[1;36m, line \u001b[1;32m3\u001b[0m\n\u001b[1;33m    VIP = ((num1,num2,num3=1,1,1),(num1,num2,num3=2,3,4),(num1,num2,num3=2,2,2),(num1,num2,num3=3,3,3))\u001b[0m\n\u001b[1;37m                          ^\u001b[0m\n\u001b[1;31mSyntaxError\u001b[0m\u001b[1;31m:\u001b[0m invalid syntax\n"
     ]
    }
   ],
   "source": [
    "#抽奖，如果用户是VIP用户，则构成三角形的概率大一点，随机出现三个随机数，这三个随机数构成三角形，则中奖\n",
    "import random\n",
    "VIP = ((num1,num2,num3=1,1,1),(num1,num2,num3=2,3,4),(num1,num2,num3=2,2,2),(num1,num2,num3=3,3,3))\n",
    "num1 = random.randint(0,100)\n",
    "num2 = random.randint(0,100)\n",
    "num3 = random.randint(0,100)\n",
    "if num1+num2>num3 and num2+num3>num1 and num3+num1>num2 \n",
    "    if (num1,num2,num3) in VIP\n",
    "        print(\"恭喜中奖\")  \n",
    "else :\n",
    "    print(\"很遗憾您没有中奖\")"
   ]
  },
  {
   "cell_type": "markdown",
   "metadata": {},
   "source": [
    "## 字符串和字符\n",
    "- 在Python中，字符串必须是在单引号或者双引号内，在多段换行的字符串中可以使用“”“\n",
    "- 在使用”“”时，给予其变量则变为字符串，否则当多行注释使用"
   ]
  },
  {
   "cell_type": "code",
   "execution_count": null,
   "metadata": {},
   "outputs": [],
   "source": [
    "a = 'a'\n",
    "a = \"a\"\n",
    "a =\"'a'\"#三引号如果不加变量的话,代表是注释(可以换行注释)"
   ]
  },
  {
   "cell_type": "markdown",
   "metadata": {},
   "source": [
    "## ASCII码与Unicode码\n",
    "- <img src=\"../Photo/19.png\"></img>\n",
    "- <img src=\"../Photo/20.png\"></img>\n",
    "- <img src=\"../Photo/21.png\"></img>"
   ]
  },
  {
   "cell_type": "markdown",
   "metadata": {},
   "source": [
    "## 函数ord、chr\n",
    "- ord 返回ASCII码值\n",
    "- chr 返回字符"
   ]
  },
  {
   "cell_type": "markdown",
   "metadata": {},
   "source": [
    "## EP:\n",
    "- 利用ord与chr进行简单邮箱加密"
   ]
  },
  {
   "cell_type": "code",
   "execution_count": 7,
   "metadata": {},
   "outputs": [
    {
     "name": "stdout",
     "output_type": "stream",
     "text": [
      "请输入加密文件\"4458@SB.com\"\n",
      " \u0017))*-5H7#Xdb\u0017\n"
     ]
    }
   ],
   "source": [
    "#邮箱加密\n",
    "#4458@SB.com\n",
    "a =input(\"请输入加密文件\")\n",
    "c = \" \"\n",
    "for i in a:\n",
    "    b = chr(ord(i)-11) #文件加密规则\n",
    "    c += b\n",
    "print(c)   "
   ]
  },
  {
   "cell_type": "code",
   "execution_count": 11,
   "metadata": {},
   "outputs": [
    {
     "name": "stdout",
     "output_type": "stream",
     "text": [
      "请输入加密文本12345678909\n",
      "()*+,-./0'0\n"
     ]
    }
   ],
   "source": [
    "#文件加密\n",
    "import random\n",
    "a = input(\"请输入加密文本\")\n",
    "c = \"\"\n",
    "d = random.randint(0,10)\n",
    "for i in a:\n",
    "    b = chr(ord(i)-d+1)\n",
    "    c += b\n",
    "print(c)"
   ]
  },
  {
   "cell_type": "markdown",
   "metadata": {},
   "source": [
    "## 转义序列 \\\n",
    "- a = \"He said,\"Johon's program is easy to read\"\n",
    "- 转掉它原来的意思\n",
    "- 一般情况下只有当语句与默认方法相撞的时候，就需要转义"
   ]
  },
  {
   "cell_type": "code",
   "execution_count": null,
   "metadata": {},
   "outputs": [],
   "source": [
    "转义字符\\表示顿开，a = \"He said,\"Johon's program is easy to read\"若没有\\则到said，结束，若有\\字符，则尾巴结束"
   ]
  },
  {
   "cell_type": "markdown",
   "metadata": {},
   "source": [
    "1.三引号和单/双引号的区别是:\n",
    "- 三引号内可以使用换行,单/双引号\n",
    "- 三引号如果不加变量的话,代表是注释(可以换行注释)\n",
    "\n",
    "2.单/双引号内是不是可以加入单/双引号的,但是可以加入双/单.\n",
    "\n",
    "3.如果非要头铁,可以使用\"\\\\\"(转义字符),表示转掉它原来的意思."
   ]
  },
  {
   "cell_type": "markdown",
   "metadata": {},
   "source": [
    "## 高级print\n",
    "- 参数 end： 以什么方式结束打印\n",
    "- 默认换行打印"
   ]
  },
  {
   "cell_type": "code",
   "execution_count": 4,
   "metadata": {},
   "outputs": [
    {
     "name": "stdout",
     "output_type": "stream",
     "text": [
      "Joker******ok\n"
     ]
    }
   ],
   "source": [
    "#end以什么字符结尾\n",
    "print(\"Joker\",end=\"******\")\n",
    "print(\"ok\")"
   ]
  },
  {
   "cell_type": "code",
   "execution_count": 5,
   "metadata": {},
   "outputs": [
    {
     "name": "stdout",
     "output_type": "stream",
     "text": [
      "a!!!!!!b\n"
     ]
    }
   ],
   "source": [
    "#sep改变字符连接\n",
    "print(\"a\",\"b\",sep=\"!!!!!!\")"
   ]
  },
  {
   "cell_type": "code",
   "execution_count": 6,
   "metadata": {},
   "outputs": [
    {
     "name": "stdout",
     "output_type": "stream",
     "text": [
      "0 / 101 / 102 / 103 / 104 / 105 / 106 / 107 / 108 / 109 / 10"
     ]
    }
   ],
   "source": [
    "for i in range(10):\n",
    "    print(i,\"/\",10,flush=True,end=\"\")"
   ]
  },
  {
   "cell_type": "code",
   "execution_count": 9,
   "metadata": {},
   "outputs": [
    {
     "name": "stdout",
     "output_type": "stream",
     "text": [
      "99/100\r"
     ]
    }
   ],
   "source": [
    "import time\n",
    "for i in range(100):#for循环100次\n",
    "    print(\"%s/%s\\r\"%(i,100),flush=True,end=\"\") #%格式化输出，\\r表示每次打印顶格打印，flush刷新缓存区\n",
    "    time.sleep(1)"
   ]
  },
  {
   "cell_type": "code",
   "execution_count": 7,
   "metadata": {},
   "outputs": [
    {
     "data": {
      "text/plain": [
       "'Joker is a 1 good man'"
      ]
     },
     "execution_count": 7,
     "metadata": {},
     "output_type": "execute_result"
    }
   ],
   "source": [
    "\"%s is a %d good man\" %(\"Joker\",1)"
   ]
  },
  {
   "cell_type": "code",
   "execution_count": null,
   "metadata": {},
   "outputs": [
    {
     "name": "stdout",
     "output_type": "stream",
     "text": [
      "[29%]#####\r"
     ]
    }
   ],
   "source": [
    "#每5秒出现一次（【3%】#）    进度条\n",
    "import time\n",
    "for i in range(100):\n",
    "    print(\"[%s%%]%s\\r\"%(i+1,(i+1)//5 * \"#\"),flush=True,end=\"\") \n",
    "    time.sleep(0.5)"
   ]
  },
  {
   "cell_type": "code",
   "execution_count": 2,
   "metadata": {},
   "outputs": [
    {
     "name": "stdout",
     "output_type": "stream",
     "text": [
      "#################### 100%\r"
     ]
    }
   ],
   "source": [
    "#每5秒出现一次（ #  3% ）    进度条\n",
    "import time\n",
    "for i in range(100):\n",
    "    print(\"%s %s%%\\r\"%((i+1)//5 * \"#\",i+1),flush=True,end=\"\")\n",
    "    time.sleep(0.5)"
   ]
  },
  {
   "cell_type": "markdown",
   "metadata": {},
   "source": [
    "## 函数str\n",
    "- 将类型强制转换成字符串类型\n",
    "- 其他一些以后会学到(list,set,tuple...)"
   ]
  },
  {
   "cell_type": "markdown",
   "metadata": {},
   "source": [
    "## 字符串连接操作\n",
    "- 直接使用 “+” \n",
    "- join() 函数 "
   ]
  },
  {
   "cell_type": "code",
   "execution_count": 5,
   "metadata": {},
   "outputs": [
    {
     "data": {
      "text/plain": [
       "'b!A'"
      ]
     },
     "execution_count": 5,
     "metadata": {},
     "output_type": "execute_result"
    }
   ],
   "source": [
    "#join\n",
    "\"!\".join(( \"b\",\"A\"))"
   ]
  },
  {
   "cell_type": "code",
   "execution_count": 15,
   "metadata": {},
   "outputs": [
    {
     "name": "stdout",
     "output_type": "stream",
     "text": [
      "http://op.hanhande.net/shtm1/op_wz/list_2602_1 .shtm1\n",
      "http://op.hanhande.net/shtm1/op_wz/list_2602_2 .shtm1\n",
      "http://op.hanhande.net/shtm1/op_wz/list_2602_3 .shtm1\n",
      "http://op.hanhande.net/shtm1/op_wz/list_2602_4 .shtm1\n",
      "http://op.hanhande.net/shtm1/op_wz/list_2602_5 .shtm1\n",
      "http://op.hanhande.net/shtm1/op_wz/list_2602_6 .shtm1\n",
      "http://op.hanhande.net/shtm1/op_wz/list_2602_7 .shtm1\n",
      "http://op.hanhande.net/shtm1/op_wz/list_2602_8 .shtm1\n",
      "http://op.hanhande.net/shtm1/op_wz/list_2602_9 .shtm1\n",
      "http://op.hanhande.net/shtm1/op_wz/list_2602_10 .shtm1\n",
      "http://op.hanhande.net/shtm1/op_wz/list_2602_11 .shtm1\n",
      "http://op.hanhande.net/shtm1/op_wz/list_2602_12 .shtm1\n",
      "http://op.hanhande.net/shtm1/op_wz/list_2602_13 .shtm1\n",
      "http://op.hanhande.net/shtm1/op_wz/list_2602_14 .shtm1\n",
      "http://op.hanhande.net/shtm1/op_wz/list_2602_15 .shtm1\n",
      "http://op.hanhande.net/shtm1/op_wz/list_2602_16 .shtm1\n",
      "http://op.hanhande.net/shtm1/op_wz/list_2602_17 .shtm1\n",
      "http://op.hanhande.net/shtm1/op_wz/list_2602_18 .shtm1\n",
      "http://op.hanhande.net/shtm1/op_wz/list_2602_19 .shtm1\n",
      "http://op.hanhande.net/shtm1/op_wz/list_2602_20 .shtm1\n",
      "http://op.hanhande.net/shtm1/op_wz/list_2602_21 .shtm1\n",
      "http://op.hanhande.net/shtm1/op_wz/list_2602_22 .shtm1\n",
      "http://op.hanhande.net/shtm1/op_wz/list_2602_23 .shtm1\n",
      "http://op.hanhande.net/shtm1/op_wz/list_2602_24 .shtm1\n",
      "http://op.hanhande.net/shtm1/op_wz/list_2602_25 .shtm1\n",
      "http://op.hanhande.net/shtm1/op_wz/list_2602_26 .shtm1\n",
      "http://op.hanhande.net/shtm1/op_wz/list_2602_27 .shtm1\n"
     ]
    }
   ],
   "source": [
    "#将网址连加，生成新的网址，且可成功访问\n",
    "#方法一：直接将网址连加 “+”\n",
    "#\"!\".join(( \"b\",\"\"))\n",
    "a = \"http://op.hanhande.net/shtm1/op_wz/list_2602_\"\n",
    "for i in range(1,28):\n",
    "    url = a + str(i) + \" .shtm1\"\n",
    "    print(url)"
   ]
  },
  {
   "cell_type": "code",
   "execution_count": 2,
   "metadata": {},
   "outputs": [
    {
     "name": "stdout",
     "output_type": "stream",
     "text": [
      "http://op.hanhande.net/shtm1/op_wz/list_2602_1 .shtml\n",
      "http://op.hanhande.net/shtm1/op_wz/list_2602_2 .shtml\n",
      "http://op.hanhande.net/shtm1/op_wz/list_2602_3 .shtml\n",
      "http://op.hanhande.net/shtm1/op_wz/list_2602_4 .shtml\n",
      "http://op.hanhande.net/shtm1/op_wz/list_2602_5 .shtml\n",
      "http://op.hanhande.net/shtm1/op_wz/list_2602_6 .shtml\n",
      "http://op.hanhande.net/shtm1/op_wz/list_2602_7 .shtml\n",
      "http://op.hanhande.net/shtm1/op_wz/list_2602_8 .shtml\n",
      "http://op.hanhande.net/shtm1/op_wz/list_2602_9 .shtml\n",
      "http://op.hanhande.net/shtm1/op_wz/list_2602_10 .shtml\n",
      "http://op.hanhande.net/shtm1/op_wz/list_2602_11 .shtml\n",
      "http://op.hanhande.net/shtm1/op_wz/list_2602_12 .shtml\n",
      "http://op.hanhande.net/shtm1/op_wz/list_2602_13 .shtml\n",
      "http://op.hanhande.net/shtm1/op_wz/list_2602_14 .shtml\n",
      "http://op.hanhande.net/shtm1/op_wz/list_2602_15 .shtml\n",
      "http://op.hanhande.net/shtm1/op_wz/list_2602_16 .shtml\n",
      "http://op.hanhande.net/shtm1/op_wz/list_2602_17 .shtml\n",
      "http://op.hanhande.net/shtm1/op_wz/list_2602_18 .shtml\n",
      "http://op.hanhande.net/shtm1/op_wz/list_2602_19 .shtml\n",
      "http://op.hanhande.net/shtm1/op_wz/list_2602_20 .shtml\n",
      "http://op.hanhande.net/shtm1/op_wz/list_2602_21 .shtml\n",
      "http://op.hanhande.net/shtm1/op_wz/list_2602_22 .shtml\n",
      "http://op.hanhande.net/shtm1/op_wz/list_2602_23 .shtml\n",
      "http://op.hanhande.net/shtm1/op_wz/list_2602_24 .shtml\n",
      "http://op.hanhande.net/shtm1/op_wz/list_2602_25 .shtml\n",
      "http://op.hanhande.net/shtm1/op_wz/list_2602_26 .shtml\n",
      "http://op.hanhande.net/shtm1/op_wz/list_2602_27 .shtml\n"
     ]
    }
   ],
   "source": [
    "#将网址连加，生成新的网址，且可成功访问\n",
    "#方法二:join\n",
    "#\"!\".join(( \"b\",\"\"))\n",
    "a = \"http://op.hanhande.net/shtm1/op_wz/list_2602_\"\n",
    "for i in range(1,28):\n",
    "    url = \"\".join((a,str(i)))\n",
    "    URL = \"\".join((url,\" .shtml\"))\n",
    "    print(URL)"
   ]
  },
  {
   "cell_type": "markdown",
   "metadata": {},
   "source": [
    "## EP：\n",
    "- 将 “Welcome” “to” \"Python\" 拼接\n",
    "- 将int型 100 与 “joker is a bad man” 拼接\n",
    "- 从控制台读取字符串\n",
    "> 输入一个名字返回夸奖此人"
   ]
  },
  {
   "cell_type": "code",
   "execution_count": 3,
   "metadata": {},
   "outputs": [
    {
     "name": "stdout",
     "output_type": "stream",
     "text": [
      "Welcome to Python\n"
     ]
    }
   ],
   "source": [
    "#将 “Welcome” “to” \"Python\" 拼接\n",
    "a = \"Welcome\" +\" \"+ \"to\"+\" \"+ \"Python\" \n",
    "print(a)"
   ]
  },
  {
   "cell_type": "code",
   "execution_count": 6,
   "metadata": {},
   "outputs": [
    {
     "ename": "TypeError",
     "evalue": "unsupported operand type(s) for +: 'int' and 'str'",
     "output_type": "error",
     "traceback": [
      "\u001b[1;31m---------------------------------------------------------------------------\u001b[0m",
      "\u001b[1;31mTypeError\u001b[0m                                 Traceback (most recent call last)",
      "\u001b[1;32m<ipython-input-6-30cf8fb4815c>\u001b[0m in \u001b[0;36m<module>\u001b[1;34m\u001b[0m\n\u001b[0;32m      1\u001b[0m \u001b[1;31m#将int型 100 与 “joker is a bad man” 拼接\u001b[0m\u001b[1;33m\u001b[0m\u001b[1;33m\u001b[0m\u001b[1;33m\u001b[0m\u001b[0m\n\u001b[1;32m----> 2\u001b[1;33m \u001b[0ma\u001b[0m \u001b[1;33m=\u001b[0m \u001b[0mint\u001b[0m\u001b[1;33m(\u001b[0m\u001b[1;36m100\u001b[0m\u001b[1;33m)\u001b[0m \u001b[1;33m+\u001b[0m\u001b[1;34m\"joker is a bad man\"\u001b[0m\u001b[1;33m\u001b[0m\u001b[1;33m\u001b[0m\u001b[0m\n\u001b[0m\u001b[0;32m      3\u001b[0m \u001b[0mprint\u001b[0m\u001b[1;33m(\u001b[0m\u001b[0ma\u001b[0m\u001b[1;33m)\u001b[0m\u001b[1;33m\u001b[0m\u001b[1;33m\u001b[0m\u001b[0m\n",
      "\u001b[1;31mTypeError\u001b[0m: unsupported operand type(s) for +: 'int' and 'str'"
     ]
    }
   ],
   "source": [
    "#将int型 100 与 “joker is a bad man” 拼接\n",
    "a = int(100) +\"joker is a bad man\"\n",
    "print(a)"
   ]
  },
  {
   "cell_type": "markdown",
   "metadata": {},
   "source": [
    "## 实例研究：最小数量硬币\n",
    "- 开发一个程序，让用户输入总金额，这是一个用美元和美分表示的浮点值，返回一个由美元、两角五分的硬币、一角的硬币、五分硬币、以及美分个数\n",
    "<img src=\"../Photo/22.png\"></img>"
   ]
  },
  {
   "cell_type": "markdown",
   "metadata": {},
   "source": [
    "- Python弱项，对于浮点型的处理并不是很好，但是处理数据的时候使用的是Numpy类型\n",
    "<img src=\"../Photo/23.png\"></img>"
   ]
  },
  {
   "cell_type": "markdown",
   "metadata": {},
   "source": [
    "## id与type\n",
    "- id 查看内存地址，在判断语句中将会使用\n",
    "- type 查看元素类型"
   ]
  },
  {
   "cell_type": "markdown",
   "metadata": {},
   "source": [
    "## 其他格式化语句见书"
   ]
  },
  {
   "cell_type": "markdown",
   "metadata": {},
   "source": [
    "# Homework\n",
    "- 1\n",
    "<img src=\"../Photo/24.png\"><img>\n",
    "<img src=\"../Photo/25.png\"><img>"
   ]
  },
  {
   "cell_type": "code",
   "execution_count": 9,
   "metadata": {},
   "outputs": [
    {
     "name": "stdout",
     "output_type": "stream",
     "text": [
      "请输入五边形顶点到中心的距离5.5\n",
      "71.92\n"
     ]
    }
   ],
   "source": [
    "import math\n",
    "r = eval(input(\"请输入五边形顶点到中心的距离\"))\n",
    "s = 2 * r * math.sin((math.pi/5))\n",
    "Area = (5 * s * s)/(4 * (math.tan(math.pi/5)))\n",
    "print(round(Area,2))"
   ]
  },
  {
   "cell_type": "markdown",
   "metadata": {},
   "source": [
    "- 2\n",
    "<img src=\"../Photo/26.png\"><img>"
   ]
  },
  {
   "cell_type": "code",
   "execution_count": 22,
   "metadata": {},
   "outputs": [
    {
     "name": "stdout",
     "output_type": "stream",
     "text": [
      "第一个点为：39.55,-116.25\n",
      "第二个点为：41.5,87.37\n",
      "大圆距离为： 10691.79183231593\n"
     ]
    }
   ],
   "source": [
    "import math\n",
    "x1,y1 = eval(input('第一个点为：'))\n",
    "x2,y2 = eval(input('第二个点为：'))\n",
    "r = 6371.01\n",
    "d = r * math.acos(math.sin(math.radians(x1)) * math.sin(math.radians(x2)) + math.cos(math.radians(x1)) * math.cos(math.radians(x2)) * math.cos(math.radians(y1-y2)))\n",
    "print('大圆距离为：',d)"
   ]
  },
  {
   "cell_type": "markdown",
   "metadata": {},
   "source": [
    "- 3\n",
    "<img src=\"../Photo/27.png\"><img>"
   ]
  },
  {
   "cell_type": "code",
   "execution_count": 19,
   "metadata": {},
   "outputs": [
    {
     "name": "stdout",
     "output_type": "stream",
     "text": [
      "输入五角形的边长:5.5\n",
      "52.044441367816255\n"
     ]
    }
   ],
   "source": [
    "import math\n",
    "s = eval(input(\"输入五角形的边长:\"))\n",
    "Area = (5*(s*s))/(4*math.tan(math.pi/5))\n",
    "print(Area)"
   ]
  },
  {
   "cell_type": "markdown",
   "metadata": {},
   "source": [
    "- 4\n",
    "<img src=\"../Photo/28.png\"><img>"
   ]
  },
  {
   "cell_type": "code",
   "execution_count": 18,
   "metadata": {},
   "outputs": [
    {
     "name": "stdout",
     "output_type": "stream",
     "text": [
      "输入正多边形的边长:6.5\n",
      "输入正多边形的边数:5\n",
      "72.69017017488386\n"
     ]
    }
   ],
   "source": [
    "import math\n",
    "s = eval(input(\"输入正多边形的边长:\"))\n",
    "n = eval(input(\"输入正多边形的边数:\"))\n",
    "Area = (n * (s*s))/(4*math.tan(math.pi/n))\n",
    "print(Area)"
   ]
  },
  {
   "cell_type": "markdown",
   "metadata": {},
   "source": [
    "- 5\n",
    "<img src=\"../Photo/29.png\"><img>\n",
    "<img src=\"../Photo/30.png\"><img>"
   ]
  },
  {
   "cell_type": "code",
   "execution_count": 16,
   "metadata": {},
   "outputs": [
    {
     "name": "stdout",
     "output_type": "stream",
     "text": [
      "请输入一个0-127之间的整数:97\n",
      "对应的字符为: a\n"
     ]
    }
   ],
   "source": [
    "num = eval(input(\"请输入一个0-127之间的整数:\"))\n",
    "ZiFu = chr(num)\n",
    "print(\"对应的字符为:\",ZiFu)"
   ]
  },
  {
   "cell_type": "markdown",
   "metadata": {},
   "source": [
    "- 6\n",
    "<img src=\"../Photo/31.png\"><img>"
   ]
  },
  {
   "cell_type": "code",
   "execution_count": 15,
   "metadata": {},
   "outputs": [
    {
     "name": "stdout",
     "output_type": "stream",
     "text": [
      "请输入员工姓名smith\n",
      "请输入一周工作时间10\n",
      "请输入每小时报酬9.75\n",
      "请输入联邦预扣税率0.2\n",
      "请输入州预扣税率0.09\n",
      "雇员姓名: smith\n",
      "周工作时间: 10\n",
      "联邦税: 19.5\n",
      "州税: 8.775\n",
      "实发工资: 69.225\n"
     ]
    }
   ],
   "source": [
    "name = input(\"请输入员工姓名\")\n",
    "time = eval(input(\"请输入一周工作时间\"))\n",
    "pay = eval(input(\"请输入每小时报酬\"))\n",
    "Lrate = eval(input(\"请输入联邦预扣税率\"))\n",
    "Crate = eval(input(\"请输入州预扣税率\"))\n",
    "Pay = time * pay\n",
    "LPay = Pay * Lrate\n",
    "CPay = Pay * Crate\n",
    "NPay= Pay-LPay-CPay\n",
    "print(\"雇员姓名:\",name)\n",
    "print(\"周工作时间:\",time)\n",
    "print(\"联邦税:\",LPay)\n",
    "print(\"州税:\",CPay)\n",
    "print(\"实发工资:\",NPay)"
   ]
  },
  {
   "cell_type": "markdown",
   "metadata": {},
   "source": [
    "- 7\n",
    "<img src=\"../Photo/32.png\"><img>"
   ]
  },
  {
   "cell_type": "code",
   "execution_count": 46,
   "metadata": {},
   "outputs": [
    {
     "name": "stdout",
     "output_type": "stream",
     "text": [
      "请输入一个四位整数abcd\n",
      "dcba\n"
     ]
    }
   ],
   "source": [
    "num = input(\"请输入一个四位整数\")\n",
    "print(num[::-1])           "
   ]
  },
  {
   "cell_type": "markdown",
   "metadata": {},
   "source": [
    "- 8 进阶：\n",
    "> 加密一串文本，并将解密后的文件写入本地保存"
   ]
  },
  {
   "cell_type": "code",
   "execution_count": null,
   "metadata": {},
   "outputs": [],
   "source": []
  }
 ],
 "metadata": {
  "kernelspec": {
   "display_name": "Python 3",
   "language": "python",
   "name": "python3"
  },
  "language_info": {
   "codemirror_mode": {
    "name": "ipython",
    "version": 3
   },
   "file_extension": ".py",
   "mimetype": "text/x-python",
   "name": "python",
   "nbconvert_exporter": "python",
   "pygments_lexer": "ipython3",
   "version": "3.7.3"
  }
 },
 "nbformat": 4,
 "nbformat_minor": 2
}
