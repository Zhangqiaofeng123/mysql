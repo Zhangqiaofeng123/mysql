{
 "cells": [
  {
   "cell_type": "markdown",
   "metadata": {},
   "source": [
    "# 基本程序设计\n",
    "- 一切代码输入，请使用英文输入法"
   ]
  },
  {
   "cell_type": "code",
   "execution_count": 1,
   "metadata": {},
   "outputs": [
    {
     "name": "stdout",
     "output_type": "stream",
     "text": [
      "hello word\n"
     ]
    }
   ],
   "source": [
    "print('hello word')"
   ]
  },
  {
   "cell_type": "code",
   "execution_count": 1,
   "metadata": {},
   "outputs": [
    {
     "name": "stdout",
     "output_type": "stream",
     "text": [
      "hello word\n"
     ]
    }
   ],
   "source": [
    "print('hello word')"
   ]
  },
  {
   "cell_type": "code",
   "execution_count": 2,
   "metadata": {},
   "outputs": [
    {
     "ename": "SyntaxError",
     "evalue": "Missing parentheses in call to 'print'. Did you mean print('hello')? (<ipython-input-2-5a1ef41e7057>, line 1)",
     "output_type": "error",
     "traceback": [
      "\u001b[0;36m  File \u001b[0;32m\"<ipython-input-2-5a1ef41e7057>\"\u001b[0;36m, line \u001b[0;32m1\u001b[0m\n\u001b[0;31m    print 'hello'\u001b[0m\n\u001b[0m                ^\u001b[0m\n\u001b[0;31mSyntaxError\u001b[0m\u001b[0;31m:\u001b[0m Missing parentheses in call to 'print'. Did you mean print('hello')?\n"
     ]
    }
   ],
   "source": [
    "print 'hello'"
   ]
  },
  {
   "cell_type": "markdown",
   "metadata": {},
   "source": [
    "## 编写一个简单的程序\n",
    "- 圆公式面积： area = radius \\* radius \\* 3.1415"
   ]
  },
  {
   "cell_type": "code",
   "execution_count": 1,
   "metadata": {},
   "outputs": [
    {
     "name": "stdout",
     "output_type": "stream",
     "text": [
      "3.1415\n"
     ]
    }
   ],
   "source": [
    "radius=1\n",
    "area=radius*radius*3.1415\n",
    "print(area)"
   ]
  },
  {
   "cell_type": "code",
   "execution_count": null,
   "metadata": {},
   "outputs": [],
   "source": [
    "area"
   ]
  },
  {
   "cell_type": "code",
   "execution_count": 3,
   "metadata": {},
   "outputs": [
    {
     "name": "stdout",
     "output_type": "stream",
     "text": [
      "3.14\n"
     ]
    }
   ],
   "source": [
    "radius = 1.0\n",
    "area = radius * radius * 3.14 # 将后半部分的结果赋值给变量area\n",
    "# 变量一定要有初始值！！！\n",
    "# radius: 变量.area: 变量！\n",
    "# int 类型\n",
    "print(area)"
   ]
  },
  {
   "cell_type": "markdown",
   "metadata": {},
   "source": [
    "### 在Python里面不需要定义数据的类型"
   ]
  },
  {
   "cell_type": "markdown",
   "metadata": {},
   "source": [
    "## 控制台的读取与输入\n",
    "- input 输入进去的是字符串\n",
    "- eval"
   ]
  },
  {
   "cell_type": "code",
   "execution_count": 3,
   "metadata": {},
   "outputs": [
    {
     "name": "stdout",
     "output_type": "stream",
     "text": [
      "输入姓名:胡旺\n",
      "胡旺 666\n"
     ]
    }
   ],
   "source": [
    "name = input(\"输入姓名:\")\n",
    "print(name,\"666\")"
   ]
  },
  {
   "cell_type": "code",
   "execution_count": 1,
   "metadata": {},
   "outputs": [
    {
     "name": "stdout",
     "output_type": "stream",
     "text": [
      "请输入半径1\n",
      "面积为: 3.14\n"
     ]
    }
   ],
   "source": [
    "radius = input('请输入半径') # input得到的结果是字符串类型\n",
    "radius= float(radius) #将str类型的radius转化为float类型的radius   int(整点型)\n",
    "area = radius * radius * 3.14\n",
    "print('面积为:',area)"
   ]
  },
  {
   "cell_type": "code",
   "execution_count": 6,
   "metadata": {},
   "outputs": [
    {
     "name": "stdout",
     "output_type": "stream",
     "text": [
      "请输入半径2\n",
      "<class 'int'>\n",
      "12.56\n"
     ]
    }
   ],
   "source": [
    "#eval #将字符串类型转化为数学表达式，数字也是可以相应转化的\n",
    "# 比如输入的是字符串的1.0，那么就会转化为float型的1.0\n",
    "#比如输入的是字符串的1，会转化为int型的1\n",
    "radius = eval(input('请输入半径'))\n",
    "print(type(radius))    #查看变量类型\n",
    "result = eval(\"radius * radius * 3.14\")\n",
    "#先将字符串“radius * radius * 3.14\"转化成数学表达式\n",
    "print(result)"
   ]
  },
  {
   "cell_type": "markdown",
   "metadata": {},
   "source": [
    "- 在jupyter用shift + tab 键可以跳出解释文档"
   ]
  },
  {
   "cell_type": "markdown",
   "metadata": {},
   "source": [
    "## 变量命名的规范\n",
    "- 由字母、数字、下划线构成\n",
    "- 不能以数字开头 \\*\n",
    "- 标识符不能是关键词(实际上是可以强制改变的，但是对于代码规范而言是极其不适合)\n",
    "- 可以是任意长度\n",
    "- 驼峰式命名"
   ]
  },
  {
   "cell_type": "markdown",
   "metadata": {},
   "source": [
    "## 变量、赋值语句和赋值表达式\n",
    "- 变量: 通俗理解为可以变化的量\n",
    "- x = 2 \\* x + 1 在数学中是一个方程，而在语言中它是一个表达式\n",
    "- test = test + 1 \\* 变量在赋值之前必须有值"
   ]
  },
  {
   "cell_type": "markdown",
   "metadata": {},
   "source": [
    "## 同时赋值\n",
    "var1, var2,var3... = exp1,exp2,exp3..."
   ]
  },
  {
   "cell_type": "code",
   "execution_count": 8,
   "metadata": {},
   "outputs": [
    {
     "name": "stdout",
     "output_type": "stream",
     "text": [
      "10\n"
     ]
    }
   ],
   "source": [
    "a,b,c,d = 1,2,3,4\n",
    "res = a+b+c+d\n",
    "print(res)"
   ]
  },
  {
   "cell_type": "markdown",
   "metadata": {},
   "source": [
    "## 定义常量\n",
    "- 常量：表示一种定值标识符，适合于多次使用的场景。比如PI\n",
    "- 注意：在其他低级语言中如果定义了常量，那么，该常量是不可以被改变的，但是在Python中一切皆对象，常量也是可以被改变的"
   ]
  },
  {
   "cell_type": "markdown",
   "metadata": {},
   "source": [
    "## 数值数据类型和运算符\n",
    "- 在Python中有两种数值类型（int 和 float）适用于加减乘除、模、幂次\n",
    "<img src = \"../Photo/01.jpg\"></img>"
   ]
  },
  {
   "cell_type": "code",
   "execution_count": 10,
   "metadata": {},
   "outputs": [
    {
     "name": "stdout",
     "output_type": "stream",
     "text": [
      "数字2\n",
      "数字3\n",
      "面积为: 3.0\n"
     ]
    }
   ],
   "source": [
    "floor= input('数字') \n",
    "high= input('数字')\n",
    "floor= float(floor) \n",
    "high=float(high)\n",
    "area = 0.5 * floor * high\n",
    "print('面积为:',area)"
   ]
  },
  {
   "cell_type": "code",
   "execution_count": 21,
   "metadata": {
    "scrolled": true
   },
   "outputs": [
    {
     "name": "stdout",
     "output_type": "stream",
     "text": [
      "很遗憾您没有中奖\n"
     ]
    }
   ],
   "source": [
    "import random\n",
    "#如果随机数是偶数，那么中奖否则不中奖，\n",
    "number = random.randint(0,10)\n",
    "if number % 2 == 0:\n",
    "    print(\"恭喜中奖\")\n",
    "else :\n",
    "    print(\"很遗憾您没有中奖\")"
   ]
  },
  {
   "cell_type": "markdown",
   "metadata": {},
   "source": [
    "## 运算符 /、//、**"
   ]
  },
  {
   "cell_type": "code",
   "execution_count": null,
   "metadata": {},
   "outputs": [],
   "source": [
    "/  #除\n",
    "//  #整除\n",
    "** #取幂"
   ]
  },
  {
   "cell_type": "code",
   "execution_count": 1,
   "metadata": {},
   "outputs": [
    {
     "name": "stdout",
     "output_type": "stream",
     "text": [
      "1000000.0\n"
     ]
    }
   ],
   "source": [
    "a = 1\n",
    "b = 1 * 10 **(-1000) + 10**-6\n",
    "c = a / b\n",
    "print(c)"
   ]
  },
  {
   "cell_type": "markdown",
   "metadata": {},
   "source": [
    "## 运算符 %"
   ]
  },
  {
   "cell_type": "code",
   "execution_count": null,
   "metadata": {},
   "outputs": [],
   "source": [
    "% 取余"
   ]
  },
  {
   "cell_type": "code",
   "execution_count": 2,
   "metadata": {},
   "outputs": [
    {
     "data": {
      "text/plain": [
       "3"
      ]
     },
     "execution_count": 2,
     "metadata": {},
     "output_type": "execute_result"
    }
   ],
   "source": [
    "3 % 5"
   ]
  },
  {
   "cell_type": "markdown",
   "metadata": {},
   "source": [
    "## EP：\n",
    "- 25/4 多少，如果要将其转变为整数该怎么改写\n",
    "- 输入一个数字判断是奇数还是偶数\n",
    "- 进阶: 输入一个秒数，写一个程序将其转换成分和秒：例如500秒等于8分20秒\n",
    "- 进阶: 如果今天是星期六，那么10天以后是星期几？ 提示：每个星期的第0天是星期天"
   ]
  },
  {
   "cell_type": "code",
   "execution_count": 9,
   "metadata": {},
   "outputs": [
    {
     "data": {
      "text/plain": [
       "6"
      ]
     },
     "execution_count": 9,
     "metadata": {},
     "output_type": "execute_result"
    }
   ],
   "source": [
    "#25/4 多少，如果要将其转变为整数该怎么改写\n",
    "int(25/4)"
   ]
  },
  {
   "cell_type": "code",
   "execution_count": 15,
   "metadata": {},
   "outputs": [
    {
     "name": "stdout",
     "output_type": "stream",
     "text": [
      "请输入数字:34\n",
      "偶数\n"
     ]
    }
   ],
   "source": [
    "#输入一个数字判断是奇数还是偶数\n",
    "number = int(input('请输入数字:'))\n",
    "if number % 2 == 0:\n",
    "    print(\"偶数\")\n",
    "else :\n",
    "    print(\"奇数\")"
   ]
  },
  {
   "cell_type": "code",
   "execution_count": 2,
   "metadata": {},
   "outputs": [
    {
     "name": "stdout",
     "output_type": "stream",
     "text": [
      "请输入秒:500\n",
      "8 分 20 秒\n"
     ]
    }
   ],
   "source": [
    "#进阶: 输入一个秒数，写一个程序将其转换成分和秒：例如500秒等于8分20秒\n",
    "seconds = eval(input(\"请输入秒:\"))\n",
    "mins = seconds // 60\n",
    "second = seconds % 60\n",
    "print(mins,\"分\",second,\"秒\")"
   ]
  },
  {
   "cell_type": "code",
   "execution_count": 19,
   "metadata": {},
   "outputs": [
    {
     "name": "stdout",
     "output_type": "stream",
     "text": [
      "seconds:>>500\n",
      "8 分 20 秒\n"
     ]
    }
   ],
   "source": [
    "#进阶: 输入一个秒数，写一个程序将其转换成分和秒：例如500秒等于8分20秒\n",
    "seconds = eval(input(\"seconds:>>\"))\n",
    "mins = seconds // 60\n",
    "second = seconds % 60\n",
    "print(mins,\"分\",second,\"秒\")"
   ]
  },
  {
   "cell_type": "code",
   "execution_count": 22,
   "metadata": {},
   "outputs": [
    {
     "name": "stdout",
     "output_type": "stream",
     "text": [
      "week:4\n",
      "days:67\n",
      "1\n"
     ]
    }
   ],
   "source": [
    "#如果今天是星期六，那么10天以后是星期几？ 提示：每个星期的第0天是星期天\n",
    "week = eval(input(\"week:\"))\n",
    "plus_days = eval(input(\"days:\"))\n",
    "result = (week+plus_days) % 7\n",
    "print (result)"
   ]
  },
  {
   "cell_type": "markdown",
   "metadata": {},
   "source": [
    "## 科学计数法\n",
    "- 1.234e+2\n",
    "- 1.234e-2"
   ]
  },
  {
   "cell_type": "markdown",
   "metadata": {},
   "source": [
    "## 计算表达式和运算优先级\n",
    "<img src = \"../Photo/02.png\"></img>\n",
    "<img src = \"../Photo/03.png\"></img>"
   ]
  },
  {
   "cell_type": "code",
   "execution_count": 29,
   "metadata": {},
   "outputs": [
    {
     "name": "stdout",
     "output_type": "stream",
     "text": [
      "127.4\n"
     ]
    }
   ],
   "source": [
    "x,y = 1,1\n",
    "a,b,c = 0,0,0\n",
    "result = (3+4*x)/5-(10*(y-5)*(a+b+c))/x+9*(4/x+(9+x)/y)\n",
    "print(result)"
   ]
  },
  {
   "cell_type": "code",
   "execution_count": null,
   "metadata": {},
   "outputs": [],
   "source": [
    "#以计算符的形式写\n",
    "#Graph\n",
    "part_1 = (3+4*x)/5\n",
    "part_2 = (10*(y-5)*(a+b+c))/x\n",
    "part_3 = 9*(4/x+(9+x)/y)"
   ]
  },
  {
   "cell_type": "markdown",
   "metadata": {},
   "source": [
    "## 增强型赋值运算\n",
    "<img src = \"../Photo/04.png\"></img>"
   ]
  },
  {
   "cell_type": "code",
   "execution_count": null,
   "metadata": {},
   "outputs": [],
   "source": [
    "#自加\n",
    "#a = 1\n",
    "#a = a + 1\n",
    "a += 1"
   ]
  },
  {
   "cell_type": "markdown",
   "metadata": {},
   "source": [
    "## 类型转换\n",
    "- float  -> int\n",
    "- 四舍五入 round"
   ]
  },
  {
   "cell_type": "code",
   "execution_count": null,
   "metadata": {},
   "outputs": [],
   "source": [
    "a = 1\n",
    "float(a) #强制转化"
   ]
  },
  {
   "cell_type": "code",
   "execution_count": 30,
   "metadata": {},
   "outputs": [
    {
     "data": {
      "text/plain": [
       "1.4"
      ]
     },
     "execution_count": 30,
     "metadata": {},
     "output_type": "execute_result"
    }
   ],
   "source": [
    "#四舍五入\n",
    "round(1.43,1) #前面是四舍五入的数字，后面是小数保留位数"
   ]
  },
  {
   "cell_type": "markdown",
   "metadata": {},
   "source": [
    "## EP:\n",
    "- 如果一个年营业税为0.06%，那么对于197.55e+2的年收入，需要交税为多少？(结果保留2为小数)\n",
    "- 必须使用科学计数法"
   ]
  },
  {
   "cell_type": "code",
   "execution_count": 43,
   "metadata": {},
   "outputs": [
    {
     "name": "stdout",
     "output_type": "stream",
     "text": [
      "11.9\n"
     ]
    }
   ],
   "source": [
    "a = (0.06/100)*197.55e+2\n",
    "print(round(a,1))"
   ]
  },
  {
   "cell_type": "markdown",
   "metadata": {},
   "source": [
    "# Project\n",
    "- 用Python写一个贷款计算器程序：输入的是月供(monthlyPayment) 输出的是总还款数(totalpayment)\n",
    "![](../Photo/05.png)"
   ]
  },
  {
   "cell_type": "code",
   "execution_count": 3,
   "metadata": {},
   "outputs": [
    {
     "name": "stdout",
     "output_type": "stream",
     "text": [
      "请输入贷款数:500\n",
      "请输入月利率:0.01\n",
      "请输入年限:5\n",
      "325.83507442809355\n"
     ]
    }
   ],
   "source": [
    "daikuanshu = eval(input(\"请输入贷款数:\"))\n",
    "yuelilv = eval(input(\"请输入月利率:\"))\n",
    "nianxian  = eval(input(\"请输入年限:\"))\n",
    "yuegong = (daikuanshu * yuelilv)/(1-(1/((1+yuelilv)**nianxian*12)))\n",
    "zonghuiaikaunshu  = yuegong * nianxian *12\n",
    "print(zonghuiaikaunshu)"
   ]
  },
  {
   "cell_type": "markdown",
   "metadata": {},
   "source": [
    "# Homework\n",
    "- 1\n",
    "<img src=\"../Photo/06.png\"></img>"
   ]
  },
  {
   "cell_type": "code",
   "execution_count": 5,
   "metadata": {},
   "outputs": [
    {
     "name": "stdout",
     "output_type": "stream",
     "text": [
      "请输入摄氏温度:43\n",
      "109.4 fahrenheit \n"
     ]
    }
   ],
   "source": [
    "celsius = eval(input(\"请输入摄氏温度:\"))\n",
    "fahrenheit = (9/5 ) * celsius + 32\n",
    "print(fahrenheit ,\"fahrenheit \")"
   ]
  },
  {
   "cell_type": "markdown",
   "metadata": {},
   "source": [
    "- 2\n",
    "<img src=\"../Photo/07.png\"></img>"
   ]
  },
  {
   "cell_type": "code",
   "execution_count": 17,
   "metadata": {},
   "outputs": [
    {
     "name": "stdout",
     "output_type": "stream",
     "text": [
      "请输入半径:5.5\n",
      "请输入高:12\n",
      "底面积为: 95.0332\n",
      "体积为: 1140.4\n"
     ]
    }
   ],
   "source": [
    "import math\n",
    "radius = eval(input('请输入半径:')) \n",
    "length = eval(input('请输入高:')) \n",
    "area = radius * radius * math.pi\n",
    "volume = area * length\n",
    "print(\"底面积为:\",round(area,4))\n",
    "print(\"体积为:\",round(volume,1))"
   ]
  },
  {
   "cell_type": "markdown",
   "metadata": {},
   "source": [
    "- 3\n",
    "<img src=\"../Photo/08.png\"></img>"
   ]
  },
  {
   "cell_type": "code",
   "execution_count": 8,
   "metadata": {},
   "outputs": [
    {
     "name": "stdout",
     "output_type": "stream",
     "text": [
      "请输入英尺数:16.5\n",
      "5.0325 meters \n"
     ]
    }
   ],
   "source": [
    "num = eval(input(\"请输入英尺数:\"))\n",
    "meter = num * 0.305\n",
    "print(meter ,\"meters \")"
   ]
  },
  {
   "cell_type": "markdown",
   "metadata": {},
   "source": [
    "- 4\n",
    "<img src=\"../Photo/10.png\"></img>"
   ]
  },
  {
   "cell_type": "code",
   "execution_count": 2,
   "metadata": {},
   "outputs": [
    {
     "name": "stdout",
     "output_type": "stream",
     "text": [
      "请输入水量:55.5\n",
      "请输入初始温度:3.5\n",
      "请输入最终温度:10.5\n",
      "1625484.0\n"
     ]
    }
   ],
   "source": [
    "M = eval(input(\"请输入水量:\"))\n",
    "Initialtemperature = eval(input(\"请输入初始温度:\"))\n",
    "Finaltemperature = eval(input(\"请输入最终温度:\"))\n",
    "result = M * (Finaltemperature-Initialtemperature)*4184\n",
    "print(result)"
   ]
  },
  {
   "cell_type": "markdown",
   "metadata": {},
   "source": [
    "- 5\n",
    "<img src=\"../Photo/11.png\"></img>"
   ]
  },
  {
   "cell_type": "code",
   "execution_count": 5,
   "metadata": {},
   "outputs": [
    {
     "name": "stdout",
     "output_type": "stream",
     "text": [
      "请输入差额:1000\n",
      "请输入年利率:3.5\n",
      "2.91667\n"
     ]
    }
   ],
   "source": [
    "chae = eval(input(\"请输入差额:\"))\n",
    "rate = eval(input(\"请输入年利率:\"))\n",
    "interest = chae * (rate/1200)\n",
    "print(round(interest,5))"
   ]
  },
  {
   "cell_type": "markdown",
   "metadata": {},
   "source": [
    "- 6\n",
    "<img src=\"../Photo/12.png\"></img>"
   ]
  },
  {
   "cell_type": "code",
   "execution_count": 7,
   "metadata": {},
   "outputs": [
    {
     "name": "stdout",
     "output_type": "stream",
     "text": [
      "请输入初始速度:5.5\n",
      "请输入末速度:50.9\n",
      "请输入变化所占用时间:4.5\n",
      "10.0889\n"
     ]
    }
   ],
   "source": [
    "V0 = eval(input(\"请输入初始速度:\"))\n",
    "V1 = eval(input(\"请输入末速度:\"))\n",
    "t = eval(input(\"请输入变化所占用时间:\"))\n",
    "a = (V1-V0)/t\n",
    "print(round(a,4))"
   ]
  },
  {
   "cell_type": "markdown",
   "metadata": {},
   "source": [
    "- 7 进阶\n",
    "<img src=\"../Photo/13.png\"></img>"
   ]
  },
  {
   "cell_type": "code",
   "execution_count": 15,
   "metadata": {},
   "outputs": [
    {
     "name": "stdout",
     "output_type": "stream",
     "text": [
      "请输入银行存入金额:100\n",
      "608.81\n"
     ]
    }
   ],
   "source": [
    "money = eval(input(\"请输入银行存入金额:\"))\n",
    "gongshi = 1+(0.05/12)\n",
    "money1 = money * gongshi\n",
    "money2 = (money1 + money) * gongshi\n",
    "money3 = (money2 + money) * gongshi\n",
    "money4 = (money3 + money) * gongshi\n",
    "money5 = (money4 + money) * gongshi\n",
    "money6 = (money5 + money) * gongshi\n",
    "print(round(money6,2))"
   ]
  },
  {
   "cell_type": "markdown",
   "metadata": {},
   "source": [
    "- 8 进阶\n",
    "<img src=\"../Photo/14.png\"></img>"
   ]
  },
  {
   "cell_type": "code",
   "execution_count": 11,
   "metadata": {},
   "outputs": [
    {
     "name": "stdout",
     "output_type": "stream",
     "text": [
      "请输入0-1000之间的整数:999\n",
      "27\n"
     ]
    }
   ],
   "source": [
    "num = eval(input(\"请输入0-1000之间的整数:\"))\n",
    "sum = num%10 + (num%100)//10 + (num%1000)//100\n",
    "print(sum)"
   ]
  },
  {
   "cell_type": "code",
   "execution_count": 9,
   "metadata": {},
   "outputs": [
    {
     "name": "stdout",
     "output_type": "stream",
     "text": [
      "2 3 9\n"
     ]
    }
   ],
   "source": [
    "a=932%10\n",
    "b=(932%100)//10\n",
    "c=(932%1000)//100\n",
    "print(a,b,c)"
   ]
  },
  {
   "cell_type": "code",
   "execution_count": 3,
   "metadata": {},
   "outputs": [
    {
     "name": "stdout",
     "output_type": "stream",
     "text": [
      ">>1,1.0\n",
      "1 1.0\n",
      "<class 'int'> <class 'float'>\n"
     ]
    }
   ],
   "source": [
    "a,b = eval(input('>>'))\n",
    "print(a,b)\n",
    "print(type(a),type(b))"
   ]
  },
  {
   "cell_type": "code",
   "execution_count": 4,
   "metadata": {},
   "outputs": [
    {
     "name": "stdout",
     "output_type": "stream",
     "text": [
      ">>1,2,3,4,5,6\n",
      "(1, 2, 3, 4, 5, 6)\n"
     ]
    }
   ],
   "source": [
    "a = eval(input('>>'))\n",
    "print(a)"
   ]
  },
  {
   "cell_type": "code",
   "execution_count": null,
   "metadata": {},
   "outputs": [],
   "source": []
  }
 ],
 "metadata": {
  "kernelspec": {
   "display_name": "Python 3",
   "language": "python",
   "name": "python3"
  },
  "language_info": {
   "codemirror_mode": {
    "name": "ipython",
    "version": 3
   },
   "file_extension": ".py",
   "mimetype": "text/x-python",
   "name": "python",
   "nbconvert_exporter": "python",
   "pygments_lexer": "ipython3",
   "version": "3.7.3"
  }
 },
 "nbformat": 4,
 "nbformat_minor": 2
}
